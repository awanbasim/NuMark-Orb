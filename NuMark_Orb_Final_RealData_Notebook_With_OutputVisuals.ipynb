{
 "cells": [
  {
   "cell_type": "markdown",
   "id": "f5a6de11",
   "metadata": {},
   "source": [
    "\n",
    "# 🧬 NuMark Orb – Real Data AI Pipeline for Cancer Risk Detection\n",
    "\n",
    "This notebook is the **complete AI pipeline** for NuMark Orb. It uses **real RNA gene expression data** (no mock data),\n",
    "and simulates receiving input from a saliva test device.\n",
    "\n",
    "## 🔁 Workflow Overview\n",
    "- Upload real training data (with labels) to train the model\n",
    "- Upload new test samples (like from a saliva kit) to predict\n",
    "- Trigger alerts for high-risk samples\n"
   ]
  },
  {
   "cell_type": "code",
   "execution_count": null,
   "id": "dce6c6e0",
   "metadata": {},
   "outputs": [],
   "source": [
    "\n",
    "# 📥 Upload your REAL training dataset (CSV with labels)\n",
    "from google.colab import files\n",
    "import pandas as pd\n",
    "import io\n",
    "\n",
    "uploaded = files.upload()\n",
    "filename = list(uploaded.keys())[0]\n",
    "train_df = pd.read_csv(io.BytesIO(uploaded[filename]))\n",
    "\n",
    "# Expecting a format like:\n",
    "# gene_1,gene_2,...,gene_n,label\n",
    "train_df.head()\n"
   ]
  },
  {
   "cell_type": "code",
   "execution_count": null,
   "id": "19c66821",
   "metadata": {},
   "outputs": [],
   "source": [
    "\n",
    "# 🔧 Train the model using real data\n",
    "from sklearn.ensemble import RandomForestClassifier\n",
    "from sklearn.model_selection import train_test_split\n",
    "from sklearn.preprocessing import StandardScaler\n",
    "from sklearn.metrics import classification_report\n",
    "import joblib\n",
    "\n",
    "X = train_df.drop(\"label\", axis=1)\n",
    "y = train_df[\"label\"]\n",
    "\n",
    "scaler = StandardScaler()\n",
    "X_scaled = scaler.fit_transform(X)\n",
    "\n",
    "X_train, X_test, y_train, y_test = train_test_split(X_scaled, y, test_size=0.2, random_state=42)\n",
    "\n",
    "model = RandomForestClassifier(n_estimators=100, random_state=42)\n",
    "model.fit(X_train, y_train)\n",
    "\n",
    "joblib.dump(model, \"cancer_risk_rf_model.pkl\")\n",
    "print(\"✅ Model saved as cancer_risk_rf_model.pkl\")\n",
    "\n",
    "# Evaluate\n",
    "y_pred = model.predict(X_test)\n",
    "print(\"📊 Evaluation Report:\")\n",
    "print(classification_report(y_test, y_pred))\n"
   ]
  },
  {
   "cell_type": "code",
   "execution_count": null,
   "id": "918e68a1",
   "metadata": {},
   "outputs": [],
   "source": [
    "\n",
    "# 📥 Upload new saliva test input (device-like format, no label)\n",
    "uploaded_test = files.upload()\n",
    "test_file = list(uploaded_test.keys())[0]\n",
    "test_df = pd.read_csv(io.BytesIO(uploaded_test[test_file]))\n",
    "\n",
    "test_df.head()\n"
   ]
  },
  {
   "cell_type": "code",
   "execution_count": null,
   "id": "7003c908",
   "metadata": {},
   "outputs": [],
   "source": [
    "\n",
    "# 🧠 Predict cancer risk and generate alerts\n",
    "X_new = scaler.transform(test_df)\n",
    "preds = model.predict(X_new)\n",
    "probs = model.predict_proba(X_new)\n",
    "\n",
    "results = pd.DataFrame({\n",
    "    \"Sample\": test_df.index + 1,\n",
    "    \"Low Risk Prob\": probs[:, 0],\n",
    "    \"High Risk Prob\": probs[:, 1],\n",
    "    \"Prediction\": preds\n",
    "})\n",
    "results[\"Alert\"] = results[\"Prediction\"].apply(\n",
    "    lambda x: \"🚨 HIGH RISK – Notify physician!\" if x == 1 else \"✅ Low risk\")\n",
    "\n",
    "results\n"
   ]
  },
  {
   "cell_type": "code",
   "execution_count": null,
   "id": "7f2d2cf0",
   "metadata": {},
   "outputs": [],
   "source": [
    "\n",
    "# 📊 Visual 1: High vs Low Risk Prediction Count\n",
    "import matplotlib.pyplot as plt\n",
    "\n",
    "risk_counts = results[\"Prediction\"].value_counts().sort_index()\n",
    "labels = [\"Low Risk\", \"High Risk\"]\n",
    "\n",
    "plt.figure(figsize=(6, 4))\n",
    "plt.bar(labels, risk_counts, color=[\"green\", \"red\"])\n",
    "plt.title(\"Prediction Distribution\")\n",
    "plt.ylabel(\"Number of Samples\")\n",
    "plt.tight_layout()\n",
    "plt.show()\n"
   ]
  },
  {
   "cell_type": "code",
   "execution_count": null,
   "id": "3a1855bc",
   "metadata": {},
   "outputs": [],
   "source": [
    "\n",
    "# 📈 Visual 2: Probability Distribution for High Risk\n",
    "plt.hist(probs[:, 1], bins=10, color=\"tomato\", edgecolor=\"black\")\n",
    "plt.title(\"Distribution of High Risk Probabilities\")\n",
    "plt.xlabel(\"Probability of High Risk\")\n",
    "plt.ylabel(\"Number of Samples\")\n",
    "plt.tight_layout()\n",
    "plt.show()\n"
   ]
  }
 ],
 "metadata": {},
 "nbformat": 4,
 "nbformat_minor": 5
}
